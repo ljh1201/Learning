{
 "cells": [
  {
   "cell_type": "code",
   "execution_count": 3,
   "id": "b6877c20",
   "metadata": {},
   "outputs": [
    {
     "name": "stdout",
     "output_type": "stream",
     "text": [
      "[1, 2, 3]\n",
      "[1 2 3]\n"
     ]
    }
   ],
   "source": [
    "import numpy as np\n",
    "list1 = [1,2,3]\n",
    "vec = np.array(list1)\n",
    "print(list1)\n",
    "print(vec)"
   ]
  },
  {
   "cell_type": "code",
   "execution_count": 2,
   "id": "be4232a4",
   "metadata": {},
   "outputs": [
    {
     "name": "stdout",
     "output_type": "stream",
     "text": [
      "[[1, 2, 3, 4, 5], [6, 7, 8, 9, 10], [11, 12, 13, 14, 15]]\n",
      "[[ 1  2  3  4  5]\n",
      " [ 6  7  8  9 10]\n",
      " [11 12 13 14 15]]\n"
     ]
    }
   ],
   "source": [
    "list2 = [[1,2,3,4,5],[6,7,8,9,10],[11,12,13,14,15]]\n",
    "mat = np.array(list2)\n",
    "print(list2)\n",
    "print(mat)"
   ]
  },
  {
   "cell_type": "code",
   "execution_count": 4,
   "id": "5cd605f2",
   "metadata": {},
   "outputs": [
    {
     "name": "stdout",
     "output_type": "stream",
     "text": [
      "1\n",
      "2\n"
     ]
    }
   ],
   "source": [
    "print(vec.ndim)\n",
    "print(mat.ndim)"
   ]
  },
  {
   "cell_type": "code",
   "execution_count": 5,
   "id": "22364a1e",
   "metadata": {},
   "outputs": [
    {
     "name": "stdout",
     "output_type": "stream",
     "text": [
      "(3,)\n",
      "(3, 5)\n"
     ]
    }
   ],
   "source": [
    "print(vec.shape)\n",
    "print(mat.shape)"
   ]
  },
  {
   "cell_type": "code",
   "execution_count": 7,
   "id": "20df24c8",
   "metadata": {},
   "outputs": [
    {
     "name": "stdout",
     "output_type": "stream",
     "text": [
      "(1, 3)\n",
      "(3, 1)\n"
     ]
    }
   ],
   "source": [
    "vec2 = np.array([[1,2,3]])\n",
    "vec3 = np.array([[1],[2],[3]])\n",
    "print(vec2.shape)\n",
    "print(vec3.shape)"
   ]
  },
  {
   "cell_type": "code",
   "execution_count": 8,
   "id": "927f0e45",
   "metadata": {},
   "outputs": [
    {
     "name": "stdout",
     "output_type": "stream",
     "text": [
      "(3, 5)\n"
     ]
    }
   ],
   "source": [
    "print(mat.shape)\n",
    "# (3, 5)\n",
    "# 3: sample의 수, 행의 수\n",
    "# 5: feature(특징)의 수, 열의 수"
   ]
  },
  {
   "cell_type": "code",
   "execution_count": 9,
   "id": "44ff5e66",
   "metadata": {},
   "outputs": [
    {
     "name": "stdout",
     "output_type": "stream",
     "text": [
      "[[ 1  2  3  4  5]\n",
      " [ 6  7  8  9 10]\n",
      " [11 12 13 14 15]]\n"
     ]
    }
   ],
   "source": [
    "print(mat)"
   ]
  },
  {
   "cell_type": "code",
   "execution_count": 11,
   "id": "64412492",
   "metadata": {},
   "outputs": [
    {
     "data": {
      "text/plain": [
       "8"
      ]
     },
     "execution_count": 11,
     "metadata": {},
     "output_type": "execute_result"
    }
   ],
   "source": [
    "# indexing\n",
    "mat[1,2]"
   ]
  },
  {
   "cell_type": "code",
   "execution_count": 19,
   "id": "33cc1002",
   "metadata": {},
   "outputs": [
    {
     "name": "stdout",
     "output_type": "stream",
     "text": [
      "[[ 6  7  8]\n",
      " [11 12 13]]\n"
     ]
    }
   ],
   "source": [
    "# slicing (범위)\n",
    "# a:b -> index a부터 index b-1까지\n",
    "# :b -> index 0(처음)부터 index b-1까지\n",
    "# a: -> index a부터 마지막 index까지\n",
    "# : -> 모든 index\n",
    "# -1 -> 마지막 index\n",
    "print(mat[1:,:3])"
   ]
  },
  {
   "cell_type": "code",
   "execution_count": 25,
   "id": "464485e2",
   "metadata": {},
   "outputs": [
    {
     "name": "stdout",
     "output_type": "stream",
     "text": [
      "(3,)\n",
      "(1, 3)\n",
      "(3,)\n",
      "(3, 1)\n"
     ]
    }
   ],
   "source": [
    "# 2차원  ndarray mat에서\n",
    "# mat[a,b] -> 원소 하나의 값, ndim = 0\n",
    "# mat[a,범위] or mat[범위,a] -> 하나의 index는 범위, 하나의 index는 숫자 지정, ndim = 1\n",
    "# mat[범위,범위] -> 행과 열 모두 index 범위일 경우, ndim = 2\n",
    "print(mat[0,:3].shape)\n",
    "print(mat[:1,:3].shape)\n",
    "print(mat[:,1].shape)\n",
    "print(mat[:,1:2].shape)"
   ]
  },
  {
   "cell_type": "code",
   "execution_count": 27,
   "id": "b449bd54",
   "metadata": {},
   "outputs": [
    {
     "name": "stdout",
     "output_type": "stream",
     "text": [
      "[1 2 3]\n",
      "[[1]\n",
      " [2]\n",
      " [3]]\n",
      "[[1 2 3]]\n"
     ]
    }
   ],
   "source": [
    "print(vec)\n",
    "print(vec.reshape(3,1))\n",
    "print(vec.reshape(1,3))\n",
    "# ndarray.reshape(): ndarray와 reshape한 결과의 원소 수는 반드시 동일해야 한다."
   ]
  },
  {
   "cell_type": "code",
   "execution_count": 28,
   "id": "023a0f26",
   "metadata": {},
   "outputs": [
    {
     "name": "stdout",
     "output_type": "stream",
     "text": [
      "(3, 5)\n",
      "[[ 1]\n",
      " [ 2]\n",
      " [ 3]\n",
      " [ 4]\n",
      " [ 5]\n",
      " [ 6]\n",
      " [ 7]\n",
      " [ 8]\n",
      " [ 9]\n",
      " [10]\n",
      " [11]\n",
      " [12]\n",
      " [13]\n",
      " [14]\n",
      " [15]]\n",
      "[[ 1  2  3]\n",
      " [ 4  5  6]\n",
      " [ 7  8  9]\n",
      " [10 11 12]\n",
      " [13 14 15]]\n"
     ]
    }
   ],
   "source": [
    "print(mat.shape)\n",
    "print(mat.reshape(15,1))\n",
    "print(mat.reshape(5,-1))"
   ]
  },
  {
   "cell_type": "code",
   "execution_count": 31,
   "id": "57602432",
   "metadata": {},
   "outputs": [
    {
     "name": "stdout",
     "output_type": "stream",
     "text": [
      "[1 2 3 4 5]\n",
      "[[1 2 3 4 5]]\n",
      "[[1]\n",
      " [2]\n",
      " [3]\n",
      " [4]\n",
      " [5]]\n",
      "[[1 2 3 4 5]]\n",
      "[[1]\n",
      " [2]\n",
      " [3]\n",
      " [4]\n",
      " [5]]\n"
     ]
    }
   ],
   "source": [
    "vec3 = np.array([1,2,3,4,5])\n",
    "# 1d array를 2d array로 변경\n",
    "print(vec3)\n",
    "print(vec3.reshape(1,5))\n",
    "print(vec3.reshape(5,1))\n",
    "print(vec3.reshape(1,-1))\n",
    "print(vec3.reshape(-1,1))"
   ]
  },
  {
   "cell_type": "code",
   "execution_count": 34,
   "id": "34652cfc",
   "metadata": {},
   "outputs": [
    {
     "name": "stdout",
     "output_type": "stream",
     "text": [
      "[[1]\n",
      " [2]\n",
      " [3]\n",
      " [4]\n",
      " [5]]\n",
      "[1 2 3 4 5]\n",
      "[1 2 3 4 5]\n"
     ]
    }
   ],
   "source": [
    "vec4 = np.array([[n] for n in range(1,6)])\n",
    "print(vec4)\n",
    "print(vec4.reshape(-1))\n",
    "print(vec4.ravel())"
   ]
  },
  {
   "cell_type": "code",
   "execution_count": 37,
   "id": "31099c97",
   "metadata": {},
   "outputs": [
    {
     "name": "stdout",
     "output_type": "stream",
     "text": [
      "[[1 2 3]\n",
      " [4 5 6]]\n",
      "[[ 7  8  9]\n",
      " [10 11 12]]\n",
      "(2, 3)\n",
      "(2, 3)\n"
     ]
    }
   ],
   "source": [
    "mat1 = np.array([[1,2,3],[4,5,6]])\n",
    "mat2 = np.array([[7,8,9],[10,11,12]])\n",
    "print(mat1)\n",
    "print(mat2)\n",
    "print(mat1.shape)\n",
    "print(mat2.shape)"
   ]
  },
  {
   "cell_type": "code",
   "execution_count": 39,
   "id": "027b402e",
   "metadata": {},
   "outputs": [
    {
     "name": "stdout",
     "output_type": "stream",
     "text": [
      "[2 3 4 5 6]\n",
      "[[1 2 3]]\n",
      "[[1 3]\n",
      " [4 6]]\n"
     ]
    }
   ],
   "source": [
    "# 행 또는 열, 원소 삭제\n",
    "print(np.delete(mat1, 0))\n",
    "# np.delete(ndarray, a) -> ndarray를 1열로 나열한 뒤(1d array), index a 원소 삭제\n",
    "# -> 결과는 1차원\n",
    "\n",
    "# 행 또는 열을 삭제하기 위해서는 axis를 지정해야 함\n",
    "print(np.delete(mat1, 1, axis=0))\n",
    "print(np.delete(mat1, 1, axis=1))"
   ]
  },
  {
   "cell_type": "code",
   "execution_count": 41,
   "id": "ace9304d",
   "metadata": {},
   "outputs": [
    {
     "name": "stdout",
     "output_type": "stream",
     "text": [
      "[[ 1  2  3]\n",
      " [ 4  5  6]\n",
      " [ 7  8  9]\n",
      " [10 11 12]]\n",
      "[[ 1  2  3]\n",
      " [ 4  5  6]\n",
      " [ 7  8  9]\n",
      " [10 11 12]]\n",
      "[[ 1  2  3  7  8  9]\n",
      " [ 4  5  6 10 11 12]]\n"
     ]
    }
   ],
   "source": [
    "print(np.concatenate((mat1, mat2)))\n",
    "# axis default value is 0\n",
    "print(np.concatenate((mat1, mat2), axis=0))\n",
    "print(np.concatenate((mat1, mat2), axis=1))\n",
    "# axis - 0: 행 결합, 1: 열 결합"
   ]
  }
 ],
 "metadata": {
  "kernelspec": {
   "display_name": "Python 3 (ipykernel)",
   "language": "python",
   "name": "python3"
  },
  "language_info": {
   "codemirror_mode": {
    "name": "ipython",
    "version": 3
   },
   "file_extension": ".py",
   "mimetype": "text/x-python",
   "name": "python",
   "nbconvert_exporter": "python",
   "pygments_lexer": "ipython3",
   "version": "3.9.13"
  }
 },
 "nbformat": 4,
 "nbformat_minor": 5
}

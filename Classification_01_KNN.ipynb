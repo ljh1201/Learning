{
 "cells": [
  {
   "cell_type": "code",
   "execution_count": 1,
   "metadata": {},
   "outputs": [],
   "source": [
    "import numpy as np\n",
    "import pandas as pd\n",
    "import matplotlib.pyplot as plt"
   ]
  },
  {
   "cell_type": "markdown",
   "metadata": {},
   "source": [
    "### 1. Data Load"
   ]
  },
  {
   "cell_type": "code",
   "execution_count": 9,
   "metadata": {},
   "outputs": [
    {
     "data": {
      "text/plain": [
       "array([[   19, 19000,     0],\n",
       "       [   35, 20000,     0],\n",
       "       [   26, 43000,     0],\n",
       "       ...,\n",
       "       [   50, 20000,     1],\n",
       "       [   36, 33000,     0],\n",
       "       [   49, 36000,     1]], dtype=int64)"
      ]
     },
     "execution_count": 9,
     "metadata": {},
     "output_type": "execute_result"
    }
   ],
   "source": [
    "data = pd.read_csv('data\\Social_Network_Ads.csv').values\n",
    "data"
   ]
  },
  {
   "cell_type": "code",
   "execution_count": 10,
   "metadata": {},
   "outputs": [
    {
     "data": {
      "text/plain": [
       "(400, 3)"
      ]
     },
     "execution_count": 10,
     "metadata": {},
     "output_type": "execute_result"
    }
   ],
   "source": [
    "data.shape"
   ]
  },
  {
   "cell_type": "markdown",
   "metadata": {},
   "source": [
    "### 2. X(feature)와 y(label) 분리"
   ]
  },
  {
   "cell_type": "code",
   "execution_count": 13,
   "metadata": {},
   "outputs": [
    {
     "name": "stdout",
     "output_type": "stream",
     "text": [
      "(400, 2) (400,)\n"
     ]
    }
   ],
   "source": [
    "X = data[:,:-1]\n",
    "y = data[:,-1]\n",
    "print(X.shape, y.shape)"
   ]
  },
  {
   "cell_type": "markdown",
   "metadata": {},
   "source": [
    "### 3. train / test data 분리"
   ]
  },
  {
   "cell_type": "code",
   "execution_count": 14,
   "metadata": {},
   "outputs": [
    {
     "name": "stdout",
     "output_type": "stream",
     "text": [
      "(280, 2) (280,)\n",
      "(120, 2) (120,)\n"
     ]
    }
   ],
   "source": [
    "from sklearn.model_selection import train_test_split\n",
    "X_train, X_test, y_train, y_test = train_test_split(X, y, test_size=0.3, random_state=1)\n",
    "print(X_train.shape, y_train.shape)\n",
    "print(X_test.shape, y_test.shape)"
   ]
  },
  {
   "cell_type": "markdown",
   "metadata": {},
   "source": [
    "### 4. Scaling"
   ]
  },
  {
   "cell_type": "markdown",
   "metadata": {},
   "source": [
    "- KNN은 Scaling이 필요할까?\n",
    "    * Scaling 필요\n",
    "    * Classification 또는 regression에서 **거리 개념**이 반영되는 경우, **scaling이 필요**함"
   ]
  },
  {
   "cell_type": "code",
   "execution_count": 18,
   "metadata": {},
   "outputs": [
    {
     "name": "stdout",
     "output_type": "stream",
     "text": [
      "[3.71000000e+01 6.90571429e+04]\n",
      "[[    27  31000]\n",
      " [    35  71000]\n",
      " [    49  28000]\n",
      " [    35  91000]\n",
      " [    37  75000]\n",
      " [    32 117000]\n",
      " [    36  75000]\n",
      " [    20  86000]\n",
      " [    38  50000]\n",
      " [    49  36000]\n",
      " [    40  65000]\n",
      " [    37  77000]\n",
      " [    60  46000]\n",
      " [    48 138000]\n",
      " [    40  71000]\n",
      " [    36  63000]\n",
      " [    26  81000]\n",
      " [    33  31000]\n",
      " [    41  51000]\n",
      " [    46  74000]\n",
      " [    18  82000]\n",
      " [    37  33000]\n",
      " [    35  53000]\n",
      " [    28  59000]\n",
      " [    37  71000]\n",
      " [    18  44000]\n",
      " [    38  61000]\n",
      " [    35  65000]\n",
      " [    31  66000]\n",
      " [    47  25000]\n",
      " [    42 104000]\n",
      " [    19  19000]\n",
      " [    21  72000]\n",
      " [    28  32000]\n",
      " [    52 150000]\n",
      " [    53 104000]\n",
      " [    25  80000]\n",
      " [    26  72000]\n",
      " [    26  15000]\n",
      " [    40 142000]\n",
      " [    35  38000]\n",
      " [    57 122000]\n",
      " [    41  87000]\n",
      " [    24  89000]\n",
      " [    37  52000]\n",
      " [    35 108000]\n",
      " [    32 100000]\n",
      " [    35 147000]\n",
      " [    19  26000]\n",
      " [    46  82000]\n",
      " [    47 105000]\n",
      " [    45  45000]\n",
      " [    38  51000]\n",
      " [    37  93000]\n",
      " [    29  43000]\n",
      " [    41  30000]\n",
      " [    40  60000]\n",
      " [    27  88000]\n",
      " [    27  90000]\n",
      " [    39  71000]\n",
      " [    23  28000]\n",
      " [    51 146000]\n",
      " [    23  63000]\n",
      " [    37  80000]\n",
      " [    40  47000]\n",
      " [    48  29000]\n",
      " [    35  59000]\n",
      " [    26  30000]\n",
      " [    39 106000]\n",
      " [    28  84000]\n",
      " [    59  76000]\n",
      " [    40  57000]\n",
      " [    35  97000]\n",
      " [    26  86000]\n",
      " [    41  63000]\n",
      " [    29  47000]\n",
      " [    26  17000]\n",
      " [    58  23000]\n",
      " [    30  62000]\n",
      " [    25  33000]\n",
      " [    59  29000]\n",
      " [    28  37000]\n",
      " [    39  77000]\n",
      " [    47 107000]\n",
      " [    52 138000]\n",
      " [    29  43000]\n",
      " [    27 137000]\n",
      " [    24  55000]\n",
      " [    40  72000]\n",
      " [    21  16000]\n",
      " [    57  26000]\n",
      " [    30 135000]\n",
      " [    48 119000]\n",
      " [    40  57000]\n",
      " [    35  75000]\n",
      " [    28  44000]\n",
      " [    37  74000]\n",
      " [    35  27000]\n",
      " [    37  79000]\n",
      " [    32 120000]\n",
      " [    29  75000]\n",
      " [    30  17000]\n",
      " [    25  79000]\n",
      " [    40 107000]\n",
      " [    24  19000]\n",
      " [    41  72000]\n",
      " [    38  61000]\n",
      " [    36 144000]\n",
      " [    42  64000]\n",
      " [    48  33000]\n",
      " [    48  30000]\n",
      " [    23  20000]\n",
      " [    55 130000]\n",
      " [    29 148000]\n",
      " [    42  65000]\n",
      " [    27  54000]\n",
      " [    37  55000]\n",
      " [    25  22000]\n",
      " [    59 143000]\n",
      " [    42  54000]\n",
      " [    27  17000]\n",
      " [    47  49000]\n",
      " [    28  59000]\n",
      " [    33  69000]\n",
      " [    31  68000]\n",
      " [    35  23000]\n",
      " [    35  22000]\n",
      " [    57  33000]\n",
      " [    30 107000]\n",
      " [    46  23000]\n",
      " [    41  60000]\n",
      " [    33  41000]\n",
      " [    33  60000]\n",
      " [    47  47000]\n",
      " [    28  55000]\n",
      " [    45  32000]\n",
      " [    35  75000]\n",
      " [    59  42000]\n",
      " [    47  50000]\n",
      " [    47  51000]\n",
      " [    35  79000]\n",
      " [    39  42000]\n",
      " [    40  78000]\n",
      " [    23  48000]\n",
      " [    39  75000]\n",
      " [    35  57000]\n",
      " [    55  39000]\n",
      " [    31  71000]\n",
      " [    28 123000]\n",
      " [    42  80000]\n",
      " [    40  59000]\n",
      " [    48  74000]\n",
      " [    21  88000]\n",
      " [    53  72000]\n",
      " [    27  58000]\n",
      " [    35  47000]\n",
      " [    28  89000]\n",
      " [    26  80000]\n",
      " [    32 117000]\n",
      " [    42  75000]\n",
      " [    33 149000]\n",
      " [    41  80000]\n",
      " [    31  58000]\n",
      " [    39 134000]\n",
      " [    27  20000]\n",
      " [    29  83000]\n",
      " [    19  70000]\n",
      " [    19  85000]\n",
      " [    29  61000]\n",
      " [    39 134000]\n",
      " [    31  76000]\n",
      " [    41  72000]\n",
      " [    26  80000]\n",
      " [    40  61000]\n",
      " [    35  25000]\n",
      " [    48  96000]\n",
      " [    42 149000]\n",
      " [    28  79000]\n",
      " [    51 134000]\n",
      " [    33  28000]\n",
      " [    42  54000]\n",
      " [    45  22000]\n",
      " [    37  57000]\n",
      " [    34 112000]\n",
      " [    35  39000]\n",
      " [    22  27000]\n",
      " [    35  72000]\n",
      " [    39  59000]\n",
      " [    20  74000]\n",
      " [    46  32000]\n",
      " [    26  43000]\n",
      " [    29  83000]\n",
      " [    55 125000]\n",
      " [    37 146000]\n",
      " [    45 131000]\n",
      " [    33  43000]\n",
      " [    41  45000]\n",
      " [    42  79000]\n",
      " [    37 137000]\n",
      " [    24  84000]\n",
      " [    32  18000]\n",
      " [    56 104000]\n",
      " [    49  39000]\n",
      " [    28  85000]\n",
      " [    53 143000]\n",
      " [    30  89000]\n",
      " [    57  60000]\n",
      " [    40  75000]\n",
      " [    41  79000]\n",
      " [    20  82000]\n",
      " [    22  55000]\n",
      " [    35  88000]\n",
      " [    54  70000]\n",
      " [    31  15000]\n",
      " [    50  36000]\n",
      " [    42  65000]\n",
      " [    34  43000]\n",
      " [    42 108000]\n",
      " [    54  26000]\n",
      " [    19  21000]\n",
      " [    36  50000]\n",
      " [    37  70000]\n",
      " [    36 126000]\n",
      " [    47  20000]\n",
      " [    30  79000]\n",
      " [    59  83000]\n",
      " [    29  80000]\n",
      " [    43 112000]\n",
      " [    38  80000]\n",
      " [    58 144000]\n",
      " [    36 125000]\n",
      " [    49  28000]\n",
      " [    18  52000]\n",
      " [    30  15000]\n",
      " [    59  88000]\n",
      " [    27  57000]\n",
      " [    38  71000]\n",
      " [    31  89000]\n",
      " [    47  34000]\n",
      " [    31  74000]\n",
      " [    37  72000]\n",
      " [    40  57000]\n",
      " [    59 130000]\n",
      " [    49  65000]\n",
      " [    48  90000]\n",
      " [    46  22000]\n",
      " [    54 104000]\n",
      " [    35  20000]\n",
      " [    49 141000]\n",
      " [    48  41000]\n",
      " [    35  55000]\n",
      " [    36  60000]\n",
      " [    32 150000]\n",
      " [    18  68000]\n",
      " [    24  55000]\n",
      " [    42  90000]\n",
      " [    38  59000]\n",
      " [    60 108000]\n",
      " [    22  63000]\n",
      " [    24  32000]\n",
      " [    46  59000]\n",
      " [    48 134000]\n",
      " [    41  72000]\n",
      " [    50  44000]\n",
      " [    38  71000]\n",
      " [    24  23000]\n",
      " [    35  61000]\n",
      " [    37  80000]\n",
      " [    24  27000]\n",
      " [    26  84000]\n",
      " [    34  25000]\n",
      " [    36  54000]\n",
      " [    21  68000]\n",
      " [    41  71000]\n",
      " [    60  42000]\n",
      " [    52  90000]\n",
      " [    20  23000]\n",
      " [    51  23000]\n",
      " [    46  79000]\n",
      " [    30  49000]]\n",
      "[[-9.79100420e-01 -1.11059025e+00]\n",
      " [-2.03575335e-01  5.66967998e-02]\n",
      " [ 1.15359356e+00 -1.19813678e+00]\n",
      " [-2.03575335e-01  6.40340327e-01]\n",
      " [-9.69406357e-03  1.73425505e-01]\n",
      " [-4.94397242e-01  1.39907691e+00]\n",
      " [-1.06634699e-01  1.73425505e-01]\n",
      " [-1.65768487e+00  4.94429445e-01]\n",
      " [ 8.72465721e-02 -5.56128904e-01]\n",
      " [ 1.15359356e+00 -9.64679373e-01]\n",
      " [ 2.81127843e-01 -1.18396258e-01]\n",
      " [-9.69406357e-03  2.31789858e-01]\n",
      " [ 2.21994056e+00 -6.72857609e-01]\n",
      " [ 1.05665293e+00  2.01190262e+00]\n",
      " [ 2.81127843e-01  5.66967998e-02]\n",
      " [-1.06634699e-01 -1.76760611e-01]\n",
      " [-1.07604106e+00  3.48518563e-01]\n",
      " [-3.97456606e-01 -1.11059025e+00]\n",
      " [ 3.78068479e-01 -5.26946727e-01]\n",
      " [ 8.62771657e-01  1.44243329e-01]\n",
      " [-1.85156614e+00  3.77700740e-01]\n",
      " [-9.69406357e-03 -1.05222590e+00]\n",
      " [-2.03575335e-01 -4.68582375e-01]\n",
      " [-8.82159785e-01 -2.93489316e-01]\n",
      " [-9.69406357e-03  5.66967998e-02]\n",
      " [-1.85156614e+00 -7.31221962e-01]\n",
      " [ 8.72465721e-02 -2.35124964e-01]\n",
      " [-2.03575335e-01 -1.18396258e-01]\n",
      " [-5.91337878e-01 -8.92140820e-02]\n",
      " [ 9.59712293e-01 -1.28568331e+00]\n",
      " [ 4.75009115e-01  1.01970862e+00]\n",
      " [-1.75462551e+00 -1.46077637e+00]\n",
      " [-1.56074423e+00  8.58789761e-02]\n",
      " [-8.82159785e-01 -1.08140808e+00]\n",
      " [ 1.44441547e+00  2.36208873e+00]\n",
      " [ 1.54135611e+00  1.01970862e+00]\n",
      " [-1.17298169e+00  3.19336387e-01]\n",
      " [-1.07604106e+00  8.58789761e-02]\n",
      " [-1.07604106e+00 -1.57750508e+00]\n",
      " [ 2.81127843e-01  2.12863132e+00]\n",
      " [-2.03575335e-01 -9.06315020e-01]\n",
      " [ 1.92911865e+00  1.54498779e+00]\n",
      " [ 3.78068479e-01  5.23611621e-01]\n",
      " [-1.26992233e+00  5.81975974e-01]\n",
      " [-9.69406357e-03 -4.97764551e-01]\n",
      " [-2.03575335e-01  1.13643732e+00]\n",
      " [-4.94397242e-01  9.02979914e-01]\n",
      " [-2.03575335e-01  2.27454220e+00]\n",
      " [-1.75462551e+00 -1.25650114e+00]\n",
      " [ 8.62771657e-01  3.77700740e-01]\n",
      " [ 9.59712293e-01  1.04889080e+00]\n",
      " [ 7.65831022e-01 -7.02039785e-01]\n",
      " [ 8.72465721e-02 -5.26946727e-01]\n",
      " [-9.69406357e-03  6.98704680e-01]\n",
      " [-7.85219149e-01 -7.60404138e-01]\n",
      " [ 3.78068479e-01 -1.13977243e+00]\n",
      " [ 2.81127843e-01 -2.64307140e-01]\n",
      " [-9.79100420e-01  5.52793798e-01]\n",
      " [-9.79100420e-01  6.11158150e-01]\n",
      " [ 1.84187208e-01  5.66967998e-02]\n",
      " [-1.36686296e+00 -1.19813678e+00]\n",
      " [ 1.34747484e+00  2.24536003e+00]\n",
      " [-1.36686296e+00 -1.76760611e-01]\n",
      " [-9.69406357e-03  3.19336387e-01]\n",
      " [ 2.81127843e-01 -6.43675433e-01]\n",
      " [ 1.05665293e+00 -1.16895461e+00]\n",
      " [-2.03575335e-01 -2.93489316e-01]\n",
      " [-1.07604106e+00 -1.13977243e+00]\n",
      " [ 1.84187208e-01  1.07807297e+00]\n",
      " [-8.82159785e-01  4.36065092e-01]\n",
      " [ 2.12299992e+00  2.02607682e-01]\n",
      " [ 2.81127843e-01 -3.51853669e-01]\n",
      " [-2.03575335e-01  8.15433385e-01]\n",
      " [-1.07604106e+00  4.94429445e-01]\n",
      " [ 3.78068479e-01 -1.76760611e-01]\n",
      " [-7.85219149e-01 -6.43675433e-01]\n",
      " [-1.07604106e+00 -1.51914072e+00]\n",
      " [ 2.02605929e+00 -1.34404767e+00]\n",
      " [-6.88278513e-01 -2.05942787e-01]\n",
      " [-1.17298169e+00 -1.05222590e+00]\n",
      " [ 2.12299992e+00 -1.16895461e+00]\n",
      " [-8.82159785e-01 -9.35497196e-01]\n",
      " [ 1.84187208e-01  2.31789858e-01]\n",
      " [ 9.59712293e-01  1.10725515e+00]\n",
      " [ 1.44441547e+00  2.01190262e+00]\n",
      " [-7.85219149e-01 -7.60404138e-01]\n",
      " [-9.79100420e-01  1.98272044e+00]\n",
      " [-1.26992233e+00 -4.10218022e-01]\n",
      " [ 2.81127843e-01  8.58789761e-02]\n",
      " [-1.56074423e+00 -1.54832290e+00]\n",
      " [ 1.92911865e+00 -1.25650114e+00]\n",
      " [-6.88278513e-01  1.92435609e+00]\n",
      " [ 1.05665293e+00  1.45744126e+00]\n",
      " [ 2.81127843e-01 -3.51853669e-01]\n",
      " [-2.03575335e-01  1.73425505e-01]\n",
      " [-8.82159785e-01 -7.31221962e-01]\n",
      " [-9.69406357e-03  1.44243329e-01]\n",
      " [-2.03575335e-01 -1.22731896e+00]\n",
      " [-9.69406357e-03  2.90154211e-01]\n",
      " [-4.94397242e-01  1.48662344e+00]\n",
      " [-7.85219149e-01  1.73425505e-01]\n",
      " [-6.88278513e-01 -1.51914072e+00]\n",
      " [-1.17298169e+00  2.90154211e-01]\n",
      " [ 2.81127843e-01  1.10725515e+00]\n",
      " [-1.26992233e+00 -1.46077637e+00]\n",
      " [ 3.78068479e-01  8.58789761e-02]\n",
      " [ 8.72465721e-02 -2.35124964e-01]\n",
      " [-1.06634699e-01  2.18699567e+00]\n",
      " [ 4.75009115e-01 -1.47578435e-01]\n",
      " [ 1.05665293e+00 -1.05222590e+00]\n",
      " [ 1.05665293e+00 -1.13977243e+00]\n",
      " [-1.36686296e+00 -1.43159419e+00]\n",
      " [ 1.73523738e+00  1.77844520e+00]\n",
      " [-7.85219149e-01  2.30372438e+00]\n",
      " [ 4.75009115e-01 -1.18396258e-01]\n",
      " [-9.79100420e-01 -4.39400198e-01]\n",
      " [-9.69406357e-03 -4.10218022e-01]\n",
      " [-1.17298169e+00 -1.37322984e+00]\n",
      " [ 2.12299992e+00  2.15781350e+00]\n",
      " [ 4.75009115e-01 -4.39400198e-01]\n",
      " [-9.79100420e-01 -1.51914072e+00]\n",
      " [ 9.59712293e-01 -5.85311080e-01]\n",
      " [-8.82159785e-01 -2.93489316e-01]\n",
      " [-3.97456606e-01 -1.66755293e-03]\n",
      " [-5.91337878e-01 -3.08497293e-02]\n",
      " [-2.03575335e-01 -1.34404767e+00]\n",
      " [-2.03575335e-01 -1.37322984e+00]\n",
      " [ 1.92911865e+00 -1.05222590e+00]\n",
      " [-6.88278513e-01  1.10725515e+00]\n",
      " [ 8.62771657e-01 -1.34404767e+00]\n",
      " [ 3.78068479e-01 -2.64307140e-01]\n",
      " [-3.97456606e-01 -8.18768491e-01]\n",
      " [-3.97456606e-01 -2.64307140e-01]\n",
      " [ 9.59712293e-01 -6.43675433e-01]\n",
      " [-8.82159785e-01 -4.10218022e-01]\n",
      " [ 7.65831022e-01 -1.08140808e+00]\n",
      " [-2.03575335e-01  1.73425505e-01]\n",
      " [ 2.12299992e+00 -7.89586314e-01]\n",
      " [ 9.59712293e-01 -5.56128904e-01]\n",
      " [ 9.59712293e-01 -5.26946727e-01]\n",
      " [-2.03575335e-01  2.90154211e-01]\n",
      " [ 1.84187208e-01 -7.89586314e-01]\n",
      " [ 2.81127843e-01  2.60972034e-01]\n",
      " [-1.36686296e+00 -6.14493256e-01]\n",
      " [ 1.84187208e-01  1.73425505e-01]\n",
      " [-2.03575335e-01 -3.51853669e-01]\n",
      " [ 1.73523738e+00 -8.77132844e-01]\n",
      " [-5.91337878e-01  5.66967998e-02]\n",
      " [-8.82159785e-01  1.57416997e+00]\n",
      " [ 4.75009115e-01  3.19336387e-01]\n",
      " [ 2.81127843e-01 -2.93489316e-01]\n",
      " [ 1.05665293e+00  1.44243329e-01]\n",
      " [-1.56074423e+00  5.52793798e-01]\n",
      " [ 1.54135611e+00  8.58789761e-02]\n",
      " [-9.79100420e-01 -3.22671493e-01]\n",
      " [-2.03575335e-01 -6.43675433e-01]\n",
      " [-8.82159785e-01  5.81975974e-01]\n",
      " [-1.07604106e+00  3.19336387e-01]\n",
      " [-4.94397242e-01  1.39907691e+00]\n",
      " [ 4.75009115e-01  1.73425505e-01]\n",
      " [-3.97456606e-01  2.33290656e+00]\n",
      " [ 3.78068479e-01  3.19336387e-01]\n",
      " [-5.91337878e-01 -3.22671493e-01]\n",
      " [ 1.84187208e-01  1.89517391e+00]\n",
      " [-9.79100420e-01 -1.43159419e+00]\n",
      " [-7.85219149e-01  4.06882916e-01]\n",
      " [-1.75462551e+00  2.75146234e-02]\n",
      " [-1.75462551e+00  4.65247269e-01]\n",
      " [-7.85219149e-01 -2.35124964e-01]\n",
      " [ 1.84187208e-01  1.89517391e+00]\n",
      " [-5.91337878e-01  2.02607682e-01]\n",
      " [ 3.78068479e-01  8.58789761e-02]\n",
      " [-1.07604106e+00  3.19336387e-01]\n",
      " [ 2.81127843e-01 -2.35124964e-01]\n",
      " [-2.03575335e-01 -1.28568331e+00]\n",
      " [ 1.05665293e+00  7.86251209e-01]\n",
      " [ 4.75009115e-01  2.33290656e+00]\n",
      " [-8.82159785e-01  2.90154211e-01]\n",
      " [ 1.34747484e+00  1.89517391e+00]\n",
      " [-3.97456606e-01 -1.19813678e+00]\n",
      " [ 4.75009115e-01 -4.39400198e-01]\n",
      " [ 7.65831022e-01 -1.37322984e+00]\n",
      " [-9.69406357e-03 -3.51853669e-01]\n",
      " [-3.00515971e-01  1.25316603e+00]\n",
      " [-2.03575335e-01 -8.77132844e-01]\n",
      " [-1.46380360e+00 -1.22731896e+00]\n",
      " [-2.03575335e-01  8.58789761e-02]\n",
      " [ 1.84187208e-01 -2.93489316e-01]\n",
      " [-1.65768487e+00  1.44243329e-01]\n",
      " [ 8.62771657e-01 -1.08140808e+00]\n",
      " [-1.07604106e+00 -7.60404138e-01]\n",
      " [-7.85219149e-01  4.06882916e-01]\n",
      " [ 1.73523738e+00  1.63253432e+00]\n",
      " [-9.69406357e-03  2.24536003e+00]\n",
      " [ 7.65831022e-01  1.80762738e+00]\n",
      " [-3.97456606e-01 -7.60404138e-01]\n",
      " [ 3.78068479e-01 -7.02039785e-01]\n",
      " [ 4.75009115e-01  2.90154211e-01]\n",
      " [-9.69406357e-03  1.98272044e+00]\n",
      " [-1.26992233e+00  4.36065092e-01]\n",
      " [-4.94397242e-01 -1.48995855e+00]\n",
      " [ 1.83217801e+00  1.01970862e+00]\n",
      " [ 1.15359356e+00 -8.77132844e-01]\n",
      " [-8.82159785e-01  4.65247269e-01]\n",
      " [ 1.54135611e+00  2.15781350e+00]\n",
      " [-6.88278513e-01  5.81975974e-01]\n",
      " [ 1.92911865e+00 -2.64307140e-01]\n",
      " [ 2.81127843e-01  1.73425505e-01]\n",
      " [ 3.78068479e-01  2.90154211e-01]\n",
      " [-1.65768487e+00  3.77700740e-01]\n",
      " [-1.46380360e+00 -4.10218022e-01]\n",
      " [-2.03575335e-01  5.52793798e-01]\n",
      " [ 1.63829674e+00  2.75146234e-02]\n",
      " [-5.91337878e-01 -1.57750508e+00]\n",
      " [ 1.25053420e+00 -9.64679373e-01]\n",
      " [ 4.75009115e-01 -1.18396258e-01]\n",
      " [-3.00515971e-01 -7.60404138e-01]\n",
      " [ 4.75009115e-01  1.13643732e+00]\n",
      " [ 1.63829674e+00 -1.25650114e+00]\n",
      " [-1.75462551e+00 -1.40241202e+00]\n",
      " [-1.06634699e-01 -5.56128904e-01]\n",
      " [-9.69406357e-03  2.75146234e-02]\n",
      " [-1.06634699e-01  1.66171650e+00]\n",
      " [ 9.59712293e-01 -1.43159419e+00]\n",
      " [-6.88278513e-01  2.90154211e-01]\n",
      " [ 2.12299992e+00  4.06882916e-01]\n",
      " [-7.85219149e-01  3.19336387e-01]\n",
      " [ 5.71949750e-01  1.25316603e+00]\n",
      " [ 8.72465721e-02  3.19336387e-01]\n",
      " [ 2.02605929e+00  2.18699567e+00]\n",
      " [-1.06634699e-01  1.63253432e+00]\n",
      " [ 1.15359356e+00 -1.19813678e+00]\n",
      " [-1.85156614e+00 -4.97764551e-01]\n",
      " [-6.88278513e-01 -1.57750508e+00]\n",
      " [ 2.12299992e+00  5.52793798e-01]\n",
      " [-9.79100420e-01 -3.51853669e-01]\n",
      " [ 8.72465721e-02  5.66967998e-02]\n",
      " [-5.91337878e-01  5.81975974e-01]\n",
      " [ 9.59712293e-01 -1.02304373e+00]\n",
      " [-5.91337878e-01  1.44243329e-01]\n",
      " [-9.69406357e-03  8.58789761e-02]\n",
      " [ 2.81127843e-01 -3.51853669e-01]\n",
      " [ 2.12299992e+00  1.77844520e+00]\n",
      " [ 1.15359356e+00 -1.18396258e-01]\n",
      " [ 1.05665293e+00  6.11158150e-01]\n",
      " [ 8.62771657e-01 -1.37322984e+00]\n",
      " [ 1.63829674e+00  1.01970862e+00]\n",
      " [-2.03575335e-01 -1.43159419e+00]\n",
      " [ 1.15359356e+00  2.09944914e+00]\n",
      " [ 1.05665293e+00 -8.18768491e-01]\n",
      " [-2.03575335e-01 -4.10218022e-01]\n",
      " [-1.06634699e-01 -2.64307140e-01]\n",
      " [-4.94397242e-01  2.36208873e+00]\n",
      " [-1.85156614e+00 -3.08497293e-02]\n",
      " [-1.26992233e+00 -4.10218022e-01]\n",
      " [ 4.75009115e-01  6.11158150e-01]\n",
      " [ 8.72465721e-02 -2.93489316e-01]\n",
      " [ 2.21994056e+00  1.13643732e+00]\n",
      " [-1.46380360e+00 -1.76760611e-01]\n",
      " [-1.26992233e+00 -1.08140808e+00]\n",
      " [ 8.62771657e-01 -2.93489316e-01]\n",
      " [ 1.05665293e+00  1.89517391e+00]\n",
      " [ 3.78068479e-01  8.58789761e-02]\n",
      " [ 1.25053420e+00 -7.31221962e-01]\n",
      " [ 8.72465721e-02  5.66967998e-02]\n",
      " [-1.26992233e+00 -1.34404767e+00]\n",
      " [-2.03575335e-01 -2.35124964e-01]\n",
      " [-9.69406357e-03  3.19336387e-01]\n",
      " [-1.26992233e+00 -1.22731896e+00]\n",
      " [-1.07604106e+00  4.36065092e-01]\n",
      " [-3.00515971e-01 -1.28568331e+00]\n",
      " [-1.06634699e-01 -4.39400198e-01]\n",
      " [-1.56074423e+00 -3.08497293e-02]\n",
      " [ 3.78068479e-01  5.66967998e-02]\n",
      " [ 2.21994056e+00 -7.89586314e-01]\n",
      " [ 1.44441547e+00  6.11158150e-01]\n",
      " [-1.65768487e+00 -1.34404767e+00]\n",
      " [ 1.34747484e+00 -1.34404767e+00]\n",
      " [ 8.62771657e-01  2.90154211e-01]\n",
      " [-6.88278513e-01 -5.85311080e-01]]\n"
     ]
    }
   ],
   "source": [
    "from sklearn.preprocessing import StandardScaler\n",
    "sc = StandardScaler()\n",
    "sc.fit(X_train)\n",
    "\n",
    "print(X_train.mean(axis=0))\n",
    "# 각 column의 평균: 약 37세, 약 $69,000\n",
    "# Age는 37에 가까울 수록, Salary는 69000에 가까울 수록 0에 가까움\n",
    "\n",
    "Xsc_train = sc.transform(X_train)\n",
    "print(X_train)\n",
    "print(Xsc_train)"
   ]
  },
  {
   "cell_type": "markdown",
   "metadata": {},
   "source": [
    "- training 과정에서 scaling된 data를 사용\n",
    "- test 과정에서 scaling된 data를 적용"
   ]
  },
  {
   "cell_type": "markdown",
   "metadata": {},
   "source": [
    "### 5. KNN training"
   ]
  },
  {
   "cell_type": "code",
   "execution_count": 22,
   "metadata": {},
   "outputs": [],
   "source": [
    "from sklearn.neighbors import KNeighborsClassifier\n",
    "knn = KNeighborsClassifier(n_neighbors=5, weights='uniform')\n",
    "# n_neighbors: k (class를 확인할 이웃 data의 수)\n",
    "# weights: uniform -> 동일한 가중치, distance -> 가까운 이웃에 더 큰 가중치 반영\n",
    "# p=2, metric='minkowskl' -> Encildean distance를 사용한다는 의미"
   ]
  },
  {
   "cell_type": "code",
   "execution_count": 23,
   "metadata": {},
   "outputs": [
    {
     "data": {
      "text/html": [
       "<style>#sk-container-id-2 {color: black;}#sk-container-id-2 pre{padding: 0;}#sk-container-id-2 div.sk-toggleable {background-color: white;}#sk-container-id-2 label.sk-toggleable__label {cursor: pointer;display: block;width: 100%;margin-bottom: 0;padding: 0.3em;box-sizing: border-box;text-align: center;}#sk-container-id-2 label.sk-toggleable__label-arrow:before {content: \"▸\";float: left;margin-right: 0.25em;color: #696969;}#sk-container-id-2 label.sk-toggleable__label-arrow:hover:before {color: black;}#sk-container-id-2 div.sk-estimator:hover label.sk-toggleable__label-arrow:before {color: black;}#sk-container-id-2 div.sk-toggleable__content {max-height: 0;max-width: 0;overflow: hidden;text-align: left;background-color: #f0f8ff;}#sk-container-id-2 div.sk-toggleable__content pre {margin: 0.2em;color: black;border-radius: 0.25em;background-color: #f0f8ff;}#sk-container-id-2 input.sk-toggleable__control:checked~div.sk-toggleable__content {max-height: 200px;max-width: 100%;overflow: auto;}#sk-container-id-2 input.sk-toggleable__control:checked~label.sk-toggleable__label-arrow:before {content: \"▾\";}#sk-container-id-2 div.sk-estimator input.sk-toggleable__control:checked~label.sk-toggleable__label {background-color: #d4ebff;}#sk-container-id-2 div.sk-label input.sk-toggleable__control:checked~label.sk-toggleable__label {background-color: #d4ebff;}#sk-container-id-2 input.sk-hidden--visually {border: 0;clip: rect(1px 1px 1px 1px);clip: rect(1px, 1px, 1px, 1px);height: 1px;margin: -1px;overflow: hidden;padding: 0;position: absolute;width: 1px;}#sk-container-id-2 div.sk-estimator {font-family: monospace;background-color: #f0f8ff;border: 1px dotted black;border-radius: 0.25em;box-sizing: border-box;margin-bottom: 0.5em;}#sk-container-id-2 div.sk-estimator:hover {background-color: #d4ebff;}#sk-container-id-2 div.sk-parallel-item::after {content: \"\";width: 100%;border-bottom: 1px solid gray;flex-grow: 1;}#sk-container-id-2 div.sk-label:hover label.sk-toggleable__label {background-color: #d4ebff;}#sk-container-id-2 div.sk-serial::before {content: \"\";position: absolute;border-left: 1px solid gray;box-sizing: border-box;top: 0;bottom: 0;left: 50%;z-index: 0;}#sk-container-id-2 div.sk-serial {display: flex;flex-direction: column;align-items: center;background-color: white;padding-right: 0.2em;padding-left: 0.2em;position: relative;}#sk-container-id-2 div.sk-item {position: relative;z-index: 1;}#sk-container-id-2 div.sk-parallel {display: flex;align-items: stretch;justify-content: center;background-color: white;position: relative;}#sk-container-id-2 div.sk-item::before, #sk-container-id-2 div.sk-parallel-item::before {content: \"\";position: absolute;border-left: 1px solid gray;box-sizing: border-box;top: 0;bottom: 0;left: 50%;z-index: -1;}#sk-container-id-2 div.sk-parallel-item {display: flex;flex-direction: column;z-index: 1;position: relative;background-color: white;}#sk-container-id-2 div.sk-parallel-item:first-child::after {align-self: flex-end;width: 50%;}#sk-container-id-2 div.sk-parallel-item:last-child::after {align-self: flex-start;width: 50%;}#sk-container-id-2 div.sk-parallel-item:only-child::after {width: 0;}#sk-container-id-2 div.sk-dashed-wrapped {border: 1px dashed gray;margin: 0 0.4em 0.5em 0.4em;box-sizing: border-box;padding-bottom: 0.4em;background-color: white;}#sk-container-id-2 div.sk-label label {font-family: monospace;font-weight: bold;display: inline-block;line-height: 1.2em;}#sk-container-id-2 div.sk-label-container {text-align: center;}#sk-container-id-2 div.sk-container {/* jupyter's `normalize.less` sets `[hidden] { display: none; }` but bootstrap.min.css set `[hidden] { display: none !important; }` so we also need the `!important` here to be able to override the default hidden behavior on the sphinx rendered scikit-learn.org. See: https://github.com/scikit-learn/scikit-learn/issues/21755 */display: inline-block !important;position: relative;}#sk-container-id-2 div.sk-text-repr-fallback {display: none;}</style><div id=\"sk-container-id-2\" class=\"sk-top-container\"><div class=\"sk-text-repr-fallback\"><pre>KNeighborsClassifier()</pre><b>In a Jupyter environment, please rerun this cell to show the HTML representation or trust the notebook. <br />On GitHub, the HTML representation is unable to render, please try loading this page with nbviewer.org.</b></div><div class=\"sk-container\" hidden><div class=\"sk-item\"><div class=\"sk-estimator sk-toggleable\"><input class=\"sk-toggleable__control sk-hidden--visually\" id=\"sk-estimator-id-2\" type=\"checkbox\" checked><label for=\"sk-estimator-id-2\" class=\"sk-toggleable__label sk-toggleable__label-arrow\">KNeighborsClassifier</label><div class=\"sk-toggleable__content\"><pre>KNeighborsClassifier()</pre></div></div></div></div></div>"
      ],
      "text/plain": [
       "KNeighborsClassifier()"
      ]
     },
     "execution_count": 23,
     "metadata": {},
     "output_type": "execute_result"
    }
   ],
   "source": [
    "knn.fit(Xsc_train, y_train)\n",
    "# sklearn에서 model의 학습 함수는 모두\n",
    "# -> fit(X_train, y_train) <-\n",
    "# fit 완료 후, Classification/Regression model에 학습 결과가 저장됨"
   ]
  },
  {
   "cell_type": "markdown",
   "metadata": {},
   "source": [
    "### 6. X_test data에 대한 예측"
   ]
  },
  {
   "cell_type": "code",
   "execution_count": 31,
   "metadata": {},
   "outputs": [
    {
     "name": "stdout",
     "output_type": "stream",
     "text": [
      "[0 0 1 1 1 0 0 1 0 1 0 0 0 1 1 1 1 0 0 1 0 1 1 1 1 0 1 0 1 1 0 0 0 1 0 0 0\n",
      " 0 1 0 1 1 1 0 1 1 1 1 0 1 0 0 0 1 0 0 1 0 1 1 0 0 1 0 1 1 0 0 1 0 1 0 1 0\n",
      " 0 1 0 0 0 0 0 1 1 0 0 0 1 0 1 0 1 1 1 0 0 1 1 0 0 0 0 1 0 1 0 1 1 1 0 1 0\n",
      " 0 0 0 0 1 0 0 0 1]\n"
     ]
    }
   ],
   "source": [
    "Xsc_test = sc.transform(X_test)\n",
    "# X_test를 적용할 model은 X를 scaling한 값을 기반으로 학습했으므로, X_test로 scaling함\n",
    "\n",
    "pred = knn.predict(Xsc_test)\n",
    "print(pred)"
   ]
  },
  {
   "cell_type": "markdown",
   "metadata": {},
   "source": [
    "### 7. test 결과 확인하기 (accuracy, 정확도)\n",
    "- 정확히 예측한 data의 수 / 전체 데이터의 수\n",
    "    * 1: model이 예측한 결과 pred와 X_test에 대응되는 y_test를 비교함\n",
    "    * 2: pred와 y_test가 동일한 데이터의 수 확인\n",
    "    * 3: 2번 결과에 test 데이터 수를 나누어 accuracy 계산\n",
    "- sklearn.metrics의 accuracy_score 사용"
   ]
  },
  {
   "cell_type": "code",
   "execution_count": 33,
   "metadata": {},
   "outputs": [
    {
     "data": {
      "text/plain": [
       "0.875"
      ]
     },
     "execution_count": 33,
     "metadata": {},
     "output_type": "execute_result"
    }
   ],
   "source": [
    "from sklearn.metrics import accuracy_score\n",
    "accuracy_score(y_test,pred)"
   ]
  },
  {
   "cell_type": "markdown",
   "metadata": {},
   "source": [
    "### 8. train data와 test data의 accuracy 확인하기\n",
    "1. train data(Xsc_train)에 대한 예측값 train_pred\n",
    "2. test data(Xsc_test)에 대한 예측값 test_pred\n",
    "3. 각각에 대한 accuracy를 구하여 비교"
   ]
  },
  {
   "cell_type": "code",
   "execution_count": 35,
   "metadata": {},
   "outputs": [
    {
     "name": "stdout",
     "output_type": "stream",
     "text": [
      "Train Accuracy: 93.57142857142857%\n",
      "Test Accuracy:  87.5%\n"
     ]
    }
   ],
   "source": [
    "train_pred = knn.predict(Xsc_train)\n",
    "test_pred = knn.predict(Xsc_test)\n",
    "\n",
    "train_acc = accuracy_score(y_train, train_pred)\n",
    "test_acc = accuracy_score(y_test, test_pred)\n",
    "\n",
    "print(f'Train Accuracy: {train_acc*100}%')\n",
    "print(f'Test Accuracy:  {test_acc*100}%')"
   ]
  },
  {
   "cell_type": "markdown",
   "metadata": {},
   "source": [
    "### 9. 결과 시각화\n",
    "- y값이 0인 X_test data와 1인 X_test data 분리하기\n",
    "- ndarray[조건식]: 조건식이 참(True와 False로 구성된 ndarray)인 ndarray의 행을 반환"
   ]
  },
  {
   "cell_type": "code",
   "execution_count": 39,
   "metadata": {},
   "outputs": [
    {
     "name": "stdout",
     "output_type": "stream",
     "text": [
      "(72, 2) (48, 2)\n"
     ]
    }
   ],
   "source": [
    "# label값(실제 값)이 0인 데이터와 1인 데이터 분리\n",
    "X0_test = X_test[y_test == 0]\n",
    "X1_test = X_test[y_test == 1]\n",
    "print(X0_test.shape, X1_test.shape)"
   ]
  },
  {
   "cell_type": "code",
   "execution_count": 40,
   "metadata": {},
   "outputs": [
    {
     "name": "stdout",
     "output_type": "stream",
     "text": [
      "(65, 2) (55, 2)\n"
     ]
    }
   ],
   "source": [
    "# prediction(예측 값)이 0인 데이터와 1인 데이터 분리\n",
    "X0_test_pred = X_test[test_pred == 0]\n",
    "X1_test_pred = X_test[test_pred == 1]\n",
    "print(X0_test_pred.shape, X1_test_pred.shape)"
   ]
  },
  {
   "cell_type": "code",
   "execution_count": 64,
   "metadata": {},
   "outputs": [
    {
     "data": {
      "image/png": "[encoded data removed]",
      "text/plain": [
       "<Figure size 700x300 with 1 Axes>"
      ]
     },
     "metadata": {},
     "output_type": "display_data"
    }
   ],
   "source": [
    "# 가로축이 Age, 세로축이 Salary인 scatter plot\n",
    "plt.figure(figsize=(7,3))\n",
    "plt.title('result plot')\n",
    "plt.scatter(X0_test[:, 0], X0_test[:, 1], color='red', marker='s', s=40, alpha=0.3, label='Class 0')\n",
    "plt.scatter(X1_test[:, 0], X1_test[:, 1], color='blue', marker='D', s=40, alpha=0.3, label='Class 1')\n",
    "plt.scatter(X0_test_pred[:, 0], X0_test_pred[:, 1], color='red', marker='s', s=10,label='pred 0')\n",
    "plt.scatter(X1_test_pred[:, 0], X1_test_pred[:, 1], color='blue', marker='D', s=10, label='pred 1')\n",
    "plt.legend()\n",
    "plt.xlabel('Age')\n",
    "plt.ylabel('Salary')\n",
    "plt.grid()\n",
    "plt.show()"
   ]
  }
 ],
 "metadata": {
  "kernelspec": {
   "display_name": "Python 3",
   "language": "python",
   "name": "python3"
  },
  "language_info": {
   "codemirror_mode": {
    "name": "ipython",
    "version": 3
   },
   "file_extension": ".py",
   "mimetype": "text/x-python",
   "name": "python",
   "nbconvert_exporter": "python",
   "pygments_lexer": "ipython3",
   "version": "3.11.2"
  },
  "orig_nbformat": 4
 },
 "nbformat": 4,
 "nbformat_minor": 2
}

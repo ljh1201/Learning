{
 "cells": [
  {
   "cell_type": "code",
   "execution_count": 1,
   "id": "7e136540",
   "metadata": {},
   "outputs": [],
   "source": [
    "import pandas as pd"
   ]
  },
  {
   "cell_type": "code",
   "execution_count": 47,
   "id": "41d98d40",
   "metadata": {},
   "outputs": [],
   "source": [
    "data = pd.read_csv('sample.csv', header='infer', index_col='Name')\n",
    "# header: column값을 지정, default는 infer -> 첫번째 행을 column명으로 간주\n",
    "# index_col: row의 이름이 되는 column 지정"
   ]
  },
  {
   "cell_type": "code",
   "execution_count": 70,
   "id": "007c1c2d",
   "metadata": {},
   "outputs": [
    {
     "data": {
      "text/html": [
       "<div>\n",
       "<style scoped>\n",
       "    .dataframe tbody tr th:only-of-type {\n",
       "        vertical-align: middle;\n",
       "    }\n",
       "\n",
       "    .dataframe tbody tr th {\n",
       "        vertical-align: top;\n",
       "    }\n",
       "\n",
       "    .dataframe thead th {\n",
       "        text-align: right;\n",
       "    }\n",
       "</style>\n",
       "<table border=\"1\" class=\"dataframe\">\n",
       "  <thead>\n",
       "    <tr style=\"text-align: right;\">\n",
       "      <th></th>\n",
       "      <th>Country</th>\n",
       "      <th>Age</th>\n",
       "      <th>Salary</th>\n",
       "      <th>Purchased</th>\n",
       "    </tr>\n",
       "    <tr>\n",
       "      <th>Name</th>\n",
       "      <th></th>\n",
       "      <th></th>\n",
       "      <th></th>\n",
       "      <th></th>\n",
       "    </tr>\n",
       "  </thead>\n",
       "  <tbody>\n",
       "    <tr>\n",
       "      <th>James</th>\n",
       "      <td>France</td>\n",
       "      <td>44.0</td>\n",
       "      <td>72000.0</td>\n",
       "      <td>No</td>\n",
       "    </tr>\n",
       "    <tr>\n",
       "      <th>Tim</th>\n",
       "      <td>Spain</td>\n",
       "      <td>27.0</td>\n",
       "      <td>48000.0</td>\n",
       "      <td>Yes</td>\n",
       "    </tr>\n",
       "    <tr>\n",
       "      <th>Sarah</th>\n",
       "      <td>Germany</td>\n",
       "      <td>30.0</td>\n",
       "      <td>54000.0</td>\n",
       "      <td>No</td>\n",
       "    </tr>\n",
       "    <tr>\n",
       "      <th>Robert</th>\n",
       "      <td>Spain</td>\n",
       "      <td>38.0</td>\n",
       "      <td>61000.0</td>\n",
       "      <td>No</td>\n",
       "    </tr>\n",
       "    <tr>\n",
       "      <th>Emma</th>\n",
       "      <td>Germany</td>\n",
       "      <td>40.0</td>\n",
       "      <td>NaN</td>\n",
       "      <td>Yes</td>\n",
       "    </tr>\n",
       "    <tr>\n",
       "      <th>Jennifer</th>\n",
       "      <td>France</td>\n",
       "      <td>35.0</td>\n",
       "      <td>58000.0</td>\n",
       "      <td>Yes</td>\n",
       "    </tr>\n",
       "    <tr>\n",
       "      <th>Linda</th>\n",
       "      <td>Spain</td>\n",
       "      <td>NaN</td>\n",
       "      <td>52000.0</td>\n",
       "      <td>No</td>\n",
       "    </tr>\n",
       "    <tr>\n",
       "      <th>Thomas</th>\n",
       "      <td>France</td>\n",
       "      <td>48.0</td>\n",
       "      <td>79000.0</td>\n",
       "      <td>Yes</td>\n",
       "    </tr>\n",
       "    <tr>\n",
       "      <th>Ben</th>\n",
       "      <td>Germany</td>\n",
       "      <td>50.0</td>\n",
       "      <td>83000.0</td>\n",
       "      <td>No</td>\n",
       "    </tr>\n",
       "    <tr>\n",
       "      <th>Scarlett</th>\n",
       "      <td>France</td>\n",
       "      <td>37.0</td>\n",
       "      <td>67000.0</td>\n",
       "      <td>Yes</td>\n",
       "    </tr>\n",
       "  </tbody>\n",
       "</table>\n",
       "</div>"
      ],
      "text/plain": [
       "          Country   Age   Salary Purchased\n",
       "Name                                      \n",
       "James      France  44.0  72000.0        No\n",
       "Tim         Spain  27.0  48000.0       Yes\n",
       "Sarah     Germany  30.0  54000.0        No\n",
       "Robert      Spain  38.0  61000.0        No\n",
       "Emma      Germany  40.0      NaN       Yes\n",
       "Jennifer   France  35.0  58000.0       Yes\n",
       "Linda       Spain   NaN  52000.0        No\n",
       "Thomas     France  48.0  79000.0       Yes\n",
       "Ben       Germany  50.0  83000.0        No\n",
       "Scarlett   France  37.0  67000.0       Yes"
      ]
     },
     "execution_count": 70,
     "metadata": {},
     "output_type": "execute_result"
    }
   ],
   "source": [
    "data"
   ]
  },
  {
   "cell_type": "code",
   "execution_count": 71,
   "id": "d61486a9",
   "metadata": {},
   "outputs": [
    {
     "data": {
      "text/plain": [
       "Index(['Country', 'Age', 'Salary', 'Purchased'], dtype='object')"
      ]
     },
     "execution_count": 71,
     "metadata": {},
     "output_type": "execute_result"
    }
   ],
   "source": [
    "data.columns"
   ]
  },
  {
   "cell_type": "code",
   "execution_count": 72,
   "id": "45021662",
   "metadata": {},
   "outputs": [
    {
     "name": "stdout",
     "output_type": "stream",
     "text": [
      "[['France' 44.0 72000.0 'No']\n",
      " ['Spain' 27.0 48000.0 'Yes']\n",
      " ['Germany' 30.0 54000.0 'No']\n",
      " ['Spain' 38.0 61000.0 'No']\n",
      " ['Germany' 40.0 nan 'Yes']\n",
      " ['France' 35.0 58000.0 'Yes']\n",
      " ['Spain' nan 52000.0 'No']\n",
      " ['France' 48.0 79000.0 'Yes']\n",
      " ['Germany' 50.0 83000.0 'No']\n",
      " ['France' 37.0 67000.0 'Yes']]\n",
      "<class 'numpy.ndarray'>\n"
     ]
    }
   ],
   "source": [
    "print(data.values)\n",
    "print(type(data.values))\n",
    "# numpy의 loadtxt나 getfromtxt로도 csv 로드 가능"
   ]
  },
  {
   "cell_type": "code",
   "execution_count": 73,
   "id": "3786a9f4",
   "metadata": {},
   "outputs": [
    {
     "data": {
      "text/plain": [
       "array([['France', 44.0],\n",
       "       ['Spain', 27.0],\n",
       "       ['Germany', 30.0],\n",
       "       ['Spain', 38.0],\n",
       "       ['Germany', 40.0],\n",
       "       ['France', 35.0],\n",
       "       ['Spain', nan],\n",
       "       ['France', 48.0],\n",
       "       ['Germany', 50.0],\n",
       "       ['France', 37.0]], dtype=object)"
      ]
     },
     "execution_count": 73,
     "metadata": {},
     "output_type": "execute_result"
    }
   ],
   "source": [
    "data.values[:,:2]\n",
    "# 처음부터 끝까지, 앞에 두 column만(국적, 나이)"
   ]
  },
  {
   "cell_type": "code",
   "execution_count": 52,
   "id": "80ae381b",
   "metadata": {},
   "outputs": [
    {
     "name": "stdout",
     "output_type": "stream",
     "text": [
      "(10, 3)\n",
      "(10,)\n",
      "(10, 1)\n"
     ]
    }
   ],
   "source": [
    "X = data.values[:,:-1]\n",
    "print(X.shape)\n",
    "Y = data.values[:,-1]\n",
    "print(Y.shape)\n",
    "Y2 = data.values[:,-1:]\n",
    "print(Y2.shape)"
   ]
  },
  {
   "cell_type": "code",
   "execution_count": 53,
   "id": "389b5665",
   "metadata": {},
   "outputs": [
    {
     "name": "stdout",
     "output_type": "stream",
     "text": [
      "<class 'pandas.core.frame.DataFrame'>\n",
      "Index: 10 entries, James to Scarlett\n",
      "Data columns (total 4 columns):\n",
      " #   Column     Non-Null Count  Dtype  \n",
      "---  ------     --------------  -----  \n",
      " 0   Country    10 non-null     object \n",
      " 1   Age        9 non-null      float64\n",
      " 2   Salary     9 non-null      float64\n",
      " 3   Purchased  10 non-null     object \n",
      "dtypes: float64(2), object(2)\n",
      "memory usage: 400.0+ bytes\n"
     ]
    }
   ],
   "source": [
    "data.info()"
   ]
  },
  {
   "cell_type": "code",
   "execution_count": 54,
   "id": "3b279ece",
   "metadata": {},
   "outputs": [
    {
     "data": {
      "text/html": [
       "<div>\n",
       "<style scoped>\n",
       "    .dataframe tbody tr th:only-of-type {\n",
       "        vertical-align: middle;\n",
       "    }\n",
       "\n",
       "    .dataframe tbody tr th {\n",
       "        vertical-align: top;\n",
       "    }\n",
       "\n",
       "    .dataframe thead th {\n",
       "        text-align: right;\n",
       "    }\n",
       "</style>\n",
       "<table border=\"1\" class=\"dataframe\">\n",
       "  <thead>\n",
       "    <tr style=\"text-align: right;\">\n",
       "      <th></th>\n",
       "      <th>Age</th>\n",
       "      <th>Salary</th>\n",
       "    </tr>\n",
       "  </thead>\n",
       "  <tbody>\n",
       "    <tr>\n",
       "      <th>count</th>\n",
       "      <td>9.000000</td>\n",
       "      <td>9.000000</td>\n",
       "    </tr>\n",
       "    <tr>\n",
       "      <th>mean</th>\n",
       "      <td>38.777778</td>\n",
       "      <td>63777.777778</td>\n",
       "    </tr>\n",
       "    <tr>\n",
       "      <th>std</th>\n",
       "      <td>7.693793</td>\n",
       "      <td>12265.579662</td>\n",
       "    </tr>\n",
       "    <tr>\n",
       "      <th>min</th>\n",
       "      <td>27.000000</td>\n",
       "      <td>48000.000000</td>\n",
       "    </tr>\n",
       "    <tr>\n",
       "      <th>25%</th>\n",
       "      <td>35.000000</td>\n",
       "      <td>54000.000000</td>\n",
       "    </tr>\n",
       "    <tr>\n",
       "      <th>50%</th>\n",
       "      <td>38.000000</td>\n",
       "      <td>61000.000000</td>\n",
       "    </tr>\n",
       "    <tr>\n",
       "      <th>75%</th>\n",
       "      <td>44.000000</td>\n",
       "      <td>72000.000000</td>\n",
       "    </tr>\n",
       "    <tr>\n",
       "      <th>max</th>\n",
       "      <td>50.000000</td>\n",
       "      <td>83000.000000</td>\n",
       "    </tr>\n",
       "  </tbody>\n",
       "</table>\n",
       "</div>"
      ],
      "text/plain": [
       "             Age        Salary\n",
       "count   9.000000      9.000000\n",
       "mean   38.777778  63777.777778\n",
       "std     7.693793  12265.579662\n",
       "min    27.000000  48000.000000\n",
       "25%    35.000000  54000.000000\n",
       "50%    38.000000  61000.000000\n",
       "75%    44.000000  72000.000000\n",
       "max    50.000000  83000.000000"
      ]
     },
     "execution_count": 54,
     "metadata": {},
     "output_type": "execute_result"
    }
   ],
   "source": [
    "data.describe()"
   ]
  },
  {
   "cell_type": "code",
   "execution_count": 63,
   "id": "49b9c07e",
   "metadata": {},
   "outputs": [
    {
     "data": {
      "text/plain": [
       "52000.0"
      ]
     },
     "execution_count": 63,
     "metadata": {},
     "output_type": "execute_result"
    }
   ],
   "source": [
    "data.loc['Linda','Salary']"
   ]
  },
  {
   "cell_type": "code",
   "execution_count": 64,
   "id": "8bda413a",
   "metadata": {},
   "outputs": [
    {
     "data": {
      "text/plain": [
       "52000.0"
      ]
     },
     "execution_count": 64,
     "metadata": {},
     "output_type": "execute_result"
    }
   ],
   "source": [
    "data.iloc[6,2]"
   ]
  },
  {
   "cell_type": "code",
   "execution_count": 66,
   "id": "03b7798a",
   "metadata": {},
   "outputs": [
    {
     "name": "stdout",
     "output_type": "stream",
     "text": [
      "          Country   Age   Salary Purchased\n",
      "Name                                      \n",
      "James      France  44.0  72000.0        No\n",
      "Tim         Spain  27.0  48000.0       Yes\n",
      "Sarah     Germany  30.0  54000.0        No\n",
      "Robert      Spain  38.0  61000.0        No\n",
      "Emma      Germany  40.0      NaN       Yes\n",
      "Jennifer   France  35.0  58000.0       Yes\n",
      "Linda       Spain   NaN  52000.0        No\n",
      "          Country   Age   Salary Purchased\n",
      "Name                                      \n",
      "James      France  44.0  72000.0        No\n",
      "Tim         Spain  27.0  48000.0       Yes\n",
      "Sarah     Germany  30.0  54000.0        No\n",
      "Robert      Spain  38.0  61000.0        No\n",
      "Emma      Germany  40.0      NaN       Yes\n",
      "Jennifer   France  35.0  58000.0       Yes\n"
     ]
    }
   ],
   "source": [
    "print(data.loc[:'Linda',:])\n",
    "print(data.iloc[:6,:])"
   ]
  }
 ],
 "metadata": {
  "kernelspec": {
   "display_name": "Python 3 (ipykernel)",
   "language": "python",
   "name": "python3"
  },
  "language_info": {
   "codemirror_mode": {
    "name": "ipython",
    "version": 3
   },
   "file_extension": ".py",
   "mimetype": "text/x-python",
   "name": "python",
   "nbconvert_exporter": "python",
   "pygments_lexer": "ipython3",
   "version": "3.9.13"
  }
 },
 "nbformat": 4,
 "nbformat_minor": 5
}
